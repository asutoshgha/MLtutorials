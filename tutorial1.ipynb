{
  "nbformat": 4,
  "nbformat_minor": 0,
  "metadata": {
    "colab": {
      "name": "tutorial1.ipynb",
      "provenance": [],
      "authorship_tag": "ABX9TyNgEBJjU4vMmqEbIITKQwqL",
      "include_colab_link": true
    },
    "kernelspec": {
      "name": "python3",
      "display_name": "Python 3"
    }
  },
  "cells": [
    {
      "cell_type": "markdown",
      "metadata": {
        "id": "view-in-github",
        "colab_type": "text"
      },
      "source": [
        "<a href=\"https://colab.research.google.com/github/asutoshgha/MLtutorials/blob/main/tutorial1.ipynb\" target=\"_parent\"><img src=\"https://colab.research.google.com/assets/colab-badge.svg\" alt=\"Open In Colab\"/></a>"
      ]
    },
    {
      "cell_type": "code",
      "metadata": {
        "colab": {
          "base_uri": "https://localhost:8080/",
          "height": 296
        },
        "id": "xfJcRTCbvxuX",
        "outputId": "230239e5-54d1-4438-f66f-f942cddc5b1b"
      },
      "source": [
        "import math\n",
        "import numpy as np\n",
        "from matplotlib import pyplot as plt\n",
        "from scipy.stats import norm\n",
        "s=np.linspace(0,20,20)\n",
        "N=20\n",
        "\n",
        "def likelihood(domain):\n",
        "    i=0\n",
        "    sum=0\n",
        "    while(i<N):\n",
        "        sum+=pow(s[i]-domain,2)\n",
        "        i=i+1\n",
        "    a=-0.5*sum-(N/2)*(math.log(2*3.14))\n",
        "    return a\n",
        "b = np.vectorize(likelihood)\n",
        "domain=np.linspace(0,20,20)\n",
        "\n",
        "#required decoration\n",
        "fig, ax = plt.subplots(nrows=1, ncols=1)\n",
        "ax.set_xlabel('X-axis')\n",
        "ax.set_ylabel('Y-axis')\n",
        "ax.spines['bottom'].set_color('white')\n",
        "ax.spines['left'].set_color('white')\n",
        "ax.xaxis.label.set_color('white')\n",
        "ax.tick_params(axis='x', colors='white')\n",
        "ax.yaxis.label.set_color('white')\n",
        "ax.tick_params(axis='y', colors='white')\n",
        "ax.set_facecolor('xkcd:salmon')\n",
        "ax.set_facecolor((0, 0, 0))\n",
        "#end of decoration\n",
        "\n",
        "plt.plot(domain,b(domain))\n",
        "plt.plot(domain,b(domain),'go-')"
      ],
      "execution_count": 22,
      "outputs": [
        {
          "output_type": "execute_result",
          "data": {
            "text/plain": [
              "[<matplotlib.lines.Line2D at 0x7fccf0317978>]"
            ]
          },
          "metadata": {
            "tags": []
          },
          "execution_count": 22
        },
        {
          "output_type": "display_data",
          "data": {
            "image/png": "[encoded data removed]",
            "text/plain": [
              "<Figure size 432x288 with 1 Axes>"
            ]
          },
          "metadata": {
            "tags": [],
            "needs_background": "dark"
          }
        }
      ]
    },
    {
      "cell_type": "code",
      "metadata": {
        "id": "0TC6f1Lsv_YM"
      },
      "source": [
        ""
      ],
      "execution_count": null,
      "outputs": []
    }
  ]
}